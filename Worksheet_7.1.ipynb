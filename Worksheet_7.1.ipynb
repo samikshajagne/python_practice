{
 "cells": [
  {
   "cell_type": "markdown",
   "metadata": {
    "id": "ZUow1RL1sWgt"
   },
   "source": [
    "##Fuctions in python Worksheet 7.1"
   ]
  },
  {
   "cell_type": "markdown",
   "metadata": {
    "id": "d2rekhOesdt1"
   },
   "source": [
    "Question - 1  : Write a python program to create a simple function without arguments and don`t return a value."
   ]
  },
  {
   "cell_type": "code",
   "execution_count": 1,
   "metadata": {
    "id": "Ib3PcTvDski1"
   },
   "outputs": [],
   "source": [
    "#write your code here.\n",
    "def sum():\n",
    "    a ,b = 10, 20\n",
    "    print(a+b)"
   ]
  },
  {
   "cell_type": "code",
   "execution_count": 3,
   "metadata": {
    "colab": {
     "base_uri": "https://localhost:8080/",
     "height": 159
    },
    "executionInfo": {
     "elapsed": 452,
     "status": "error",
     "timestamp": 1716867944352,
     "user": {
      "displayName": "Aishwarya Patil",
      "userId": "12631916124016897137"
     },
     "user_tz": -330
    },
    "id": "sb4E1gTBDk-O",
    "outputId": "b802e9d7-2c55-42cc-894c-0558b81f8dde"
   },
   "outputs": [
    {
     "name": "stdout",
     "output_type": "stream",
     "text": [
      "30\n"
     ]
    }
   ],
   "source": [
    "sum()"
   ]
  },
  {
   "cell_type": "markdown",
   "metadata": {
    "id": "5kUvb3UWsk_K"
   },
   "source": [
    "Question - 2  : Write a python program  to create a function that can accept two arguments name and age and print its value"
   ]
  },
  {
   "cell_type": "code",
   "execution_count": 6,
   "metadata": {
    "id": "TGR01HH0smnc"
   },
   "outputs": [],
   "source": [
    "#write your code here.\n",
    "def display():\n",
    "    name = input(\"Enter your name: \")\n",
    "    age = int(input(\"enter yout age: \"))\n",
    "    print(f\"Hello {name} , you are {age} years old\")"
   ]
  },
  {
   "cell_type": "code",
   "execution_count": 7,
   "metadata": {
    "id": "sizzRSOsDl37"
   },
   "outputs": [
    {
     "name": "stdout",
     "output_type": "stream",
     "text": [
      "Hello Samiksha , you are 21 years old\n"
     ]
    }
   ],
   "source": [
    "display()"
   ]
  },
  {
   "cell_type": "markdown",
   "metadata": {
    "id": "TrvwyGJrsnDy"
   },
   "source": [
    "Question - 3  : Write a python program to create a function that returns the maximum of two numbers."
   ]
  },
  {
   "cell_type": "code",
   "execution_count": 8,
   "metadata": {
    "id": "JnXtHR2dsoy7"
   },
   "outputs": [],
   "source": [
    "#write your code here.\n",
    "def max(a,b):\n",
    "    if a>b:\n",
    "        return a\n",
    "    else:\n",
    "        return b\n",
    "    \n"
   ]
  },
  {
   "cell_type": "code",
   "execution_count": 9,
   "metadata": {
    "id": "lk4jvnzbDmsA"
   },
   "outputs": [
    {
     "data": {
      "text/plain": [
       "2"
      ]
     },
     "execution_count": 9,
     "metadata": {},
     "output_type": "execute_result"
    }
   ],
   "source": [
    "max(2,1)"
   ]
  },
  {
   "cell_type": "code",
   "execution_count": 10,
   "metadata": {
    "id": "FFJqoaqKso46"
   },
   "outputs": [
    {
     "data": {
      "text/plain": [
       "10"
      ]
     },
     "execution_count": 10,
     "metadata": {},
     "output_type": "execute_result"
    }
   ],
   "source": [
    "max(0,10)"
   ]
  },
  {
   "cell_type": "markdown",
   "metadata": {
    "id": "f0hBnaeKspWc"
   },
   "source": [
    "Question - 4  : Write a python program  to create function to find the Max of three numbers."
   ]
  },
  {
   "cell_type": "code",
   "execution_count": 15,
   "metadata": {
    "id": "Vuqdq9lJsq_t"
   },
   "outputs": [],
   "source": [
    "#write -your code here.\n",
    "def max_of_three(a,b,c):\n",
    "    if a < b :\n",
    "        result = b\n",
    "    elif a < c :\n",
    "        result = c\n",
    "       \n",
    "    else :\n",
    "        result = a\n",
    "    return result\n",
    "    \n",
    "\n"
   ]
  },
  {
   "cell_type": "code",
   "execution_count": 16,
   "metadata": {
    "id": "_6Gm1gyDDnjc"
   },
   "outputs": [
    {
     "data": {
      "text/plain": [
       "2"
      ]
     },
     "execution_count": 16,
     "metadata": {},
     "output_type": "execute_result"
    }
   ],
   "source": [
    "max_of_three(1,2,3)"
   ]
  },
  {
   "cell_type": "markdown",
   "metadata": {
    "id": "DxtL6Ty7sric"
   },
   "source": [
    "Question - 5  : Write a python program to create a function for checking the speed of drivers.\n",
    "\n",
    "\n",
    "This function should have one parameter: speed.\n",
    "\n",
    "* If speed is less than 70, it should print “Ok”.\n",
    "\n",
    "* Otherwise, print “License suspended”\n",
    "\n",
    "\n",
    "\n",
    "\n",
    "\n"
   ]
  },
  {
   "cell_type": "code",
   "execution_count": null,
   "metadata": {
    "id": "pKk16y8QstPR"
   },
   "outputs": [],
   "source": [
    "#write your code here."
   ]
  },
  {
   "cell_type": "code",
   "execution_count": 17,
   "metadata": {
    "id": "y4RlB52oDoU6"
   },
   "outputs": [],
   "source": [
    "def speed(speed):\n",
    "    if speed < 70:\n",
    "        result = 'ok'\n",
    "    else:\n",
    "        result = 'License suspended'\n",
    "    return result\n"
   ]
  },
  {
   "cell_type": "code",
   "execution_count": 19,
   "metadata": {
    "id": "AtKLvsAYstVY"
   },
   "outputs": [
    {
     "data": {
      "text/plain": [
       "'ok'"
      ]
     },
     "execution_count": 19,
     "metadata": {},
     "output_type": "execute_result"
    }
   ],
   "source": [
    "\n",
    "speed(50)"
   ]
  },
  {
   "cell_type": "code",
   "execution_count": 20,
   "metadata": {},
   "outputs": [
    {
     "data": {
      "text/plain": [
       "'License suspended'"
      ]
     },
     "execution_count": 20,
     "metadata": {},
     "output_type": "execute_result"
    }
   ],
   "source": [
    "speed(80)"
   ]
  },
  {
   "cell_type": "markdown",
   "metadata": {
    "id": "_K_iJdCqstp6"
   },
   "source": [
    "Question - 6  : Write a python program to create a function called <b>showNumbers</b> that takes a parameter called limit. It should print all the numbers between 0 and limit with a label to identify the even and odd numbers. For example, if the limit is 3, it should print:\n",
    "\n",
    "0 EVEN\n",
    "\n",
    "1 ODD\n",
    "\n",
    "2 EVEN\n",
    "\n",
    "3 ODD"
   ]
  },
  {
   "cell_type": "code",
   "execution_count": 25,
   "metadata": {
    "id": "XW90AyMQsvKH"
   },
   "outputs": [],
   "source": [
    "#write your code here.\n",
    "def showNumbers(limit):\n",
    "    for i in range(1,limit+1):\n",
    "        if i%2==0:\n",
    "            print(i,\"Even\")\n",
    "        else:\n",
    "            print(i,\"Odd\")\n",
    "        \n"
   ]
  },
  {
   "cell_type": "code",
   "execution_count": 26,
   "metadata": {
    "id": "yQgzTfgzDpJB"
   },
   "outputs": [
    {
     "name": "stdout",
     "output_type": "stream",
     "text": [
      "1 Odd\n",
      "2 Even\n",
      "3 Odd\n",
      "4 Even\n",
      "5 Odd\n"
     ]
    }
   ],
   "source": [
    "showNumbers(5)"
   ]
  },
  {
   "cell_type": "markdown",
   "metadata": {
    "id": "-gz3h8KQsvmf"
   },
   "source": [
    "Question - 7  : Write a python program to create a function that prints the  multiples of 3 and 5 between 0 and limit (parameter).\n",
    "\n",
    "For example, if limit is 20, it should return the sum of 3, 5, 6, 9, 10, 12, 15, 18, 20."
   ]
  },
  {
   "cell_type": "code",
   "execution_count": 33,
   "metadata": {
    "id": "8P1x3WKVsxc8"
   },
   "outputs": [],
   "source": [
    "#write your code here.\n",
    "def mul(limit):\n",
    "    for i in range(1,limit+1):\n",
    "        if i%3==0:\n",
    "            print(i,end=' ')\n",
    "        elif i%5==0:\n",
    "            print(i,end=' ')"
   ]
  },
  {
   "cell_type": "code",
   "execution_count": 34,
   "metadata": {
    "id": "N-0vi2IhDsoi"
   },
   "outputs": [
    {
     "name": "stdout",
     "output_type": "stream",
     "text": [
      "3 5 6 9 10 12 15 18 20 "
     ]
    }
   ],
   "source": [
    "mul(20)"
   ]
  },
  {
   "cell_type": "markdown",
   "metadata": {
    "id": "h9mdw41Osx5p"
   },
   "source": [
    "Question - 8  : Write a python program to create a function that prints all the prime numbers , numbers should be parameter."
   ]
  },
  {
   "cell_type": "code",
   "execution_count": 45,
   "metadata": {
    "id": "8S5QM-fSszzS"
   },
   "outputs": [
    {
     "name": "stdout",
     "output_type": "stream",
     "text": [
      "2\n",
      "3\n",
      "5\n",
      "7\n"
     ]
    }
   ],
   "source": [
    "def prime(numbers):\n",
    "\n",
    "  for num in range(numbers):\n",
    "   # all prime numbers are greater than 1\n",
    "    if num > 1:\n",
    "        for i in range(2, num):\n",
    "            if (num % i) == 0:\n",
    "                break\n",
    "        else:\n",
    "            print(num)\n",
    "\n",
    "prime(8)"
   ]
  },
  {
   "cell_type": "markdown",
   "metadata": {
    "id": "eyRv2V0Gs0UF"
   },
   "source": [
    "Question - 9  : Write a python program to create a function func1() such  it can accept argument and print all arguments value."
   ]
  },
  {
   "cell_type": "code",
   "execution_count": 48,
   "metadata": {
    "id": "9jKGRfEcs2Jl"
   },
   "outputs": [],
   "source": [
    "#write your code here.\n",
    "def func1(*b):\n",
    "    for i in b:\n",
    "        print(i)"
   ]
  },
  {
   "cell_type": "code",
   "execution_count": 49,
   "metadata": {
    "id": "_aUA52Z_DzvS"
   },
   "outputs": [
    {
     "name": "stdout",
     "output_type": "stream",
     "text": [
      "1\n",
      "2\n",
      "3\n",
      "4\n",
      "5\n"
     ]
    }
   ],
   "source": [
    "func1(1,2,3,4,5)"
   ]
  },
  {
   "cell_type": "markdown",
   "metadata": {
    "id": "12CHIjDIs2vb"
   },
   "source": [
    "Question - 10  : Write a python program to create a function <b>calculation()</b> such that it can accept two variables and calculate the addition and subtraction of it. And also it must return both addition and subtraction in a single return call"
   ]
  },
  {
   "cell_type": "code",
   "execution_count": 59,
   "metadata": {
    "id": "sS9WMNchs4Mz"
   },
   "outputs": [],
   "source": [
    "#write your code here.\n",
    "def add_sub(a,b):\n",
    "   return a+b , a-b"
   ]
  },
  {
   "cell_type": "code",
   "execution_count": 60,
   "metadata": {
    "id": "dmTtDdcMs4S6"
   },
   "outputs": [
    {
     "data": {
      "text/plain": [
       "(15, 5)"
      ]
     },
     "execution_count": 60,
     "metadata": {},
     "output_type": "execute_result"
    }
   ],
   "source": [
    "add_sub(10,5)"
   ]
  },
  {
   "cell_type": "markdown",
   "metadata": {
    "id": "O3R5zXZjTgct"
   },
   "source": [
    "Visit [Jobaajlearnings.com ](http://learnings.jobaaj.com/)for more Courses<br><br>\n",
    "Connect with Us on <br>\n",
    "\n",
    "\n",
    "*  [Instagram](https://www.instagram.com/jobaaj.com_/)<br>\n",
    "*  [LinkedIn](https://www.linkedin.com/showcase/jobaaj-learnings/)<br>\n",
    "*  [Medium](https://jobaaj-com.medium.com/)<br>\n",
    "\n",
    "Connect with the Instructor on <br>\n",
    "\n",
    "\n",
    "*  [Instagram](https://www.instagram.com/shivavashishtha_/)<br>\n",
    "*  [LinkedIn](https://www.linkedin.com/in/shivavashishtha/)<br>\n",
    "*  [Medium](https://medium.com/@shiva.vashishtha)<br>\n",
    "*  [GitHub](https://github.com/shivavashishtha)<br>\n",
    "\n",
    "\n",
    "\n"
   ]
  }
 ],
 "metadata": {
  "colab": {
   "provenance": []
  },
  "kernelspec": {
   "display_name": "Python (tf_env)",
   "language": "python",
   "name": "tf_env"
  },
  "language_info": {
   "codemirror_mode": {
    "name": "ipython",
    "version": 3
   },
   "file_extension": ".py",
   "mimetype": "text/x-python",
   "name": "python",
   "nbconvert_exporter": "python",
   "pygments_lexer": "ipython3",
   "version": "3.9.19"
  }
 },
 "nbformat": 4,
 "nbformat_minor": 0
}
