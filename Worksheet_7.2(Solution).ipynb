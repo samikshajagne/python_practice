{
 "cells": [
  {
   "cell_type": "markdown",
   "metadata": {
    "id": "esc1-KGYVat3"
   },
   "source": [
    "##Functions in python Worksheet 7.2\n"
   ]
  },
  {
   "cell_type": "markdown",
   "metadata": {
    "id": "gDnHQST-Vd6P"
   },
   "source": [
    "Question - 1 : Write a python program to create a function showEmployee() in such a way that it should accept employee name, and it’s salary and display both ."
   ]
  },
  {
   "cell_type": "code",
   "execution_count": null,
   "metadata": {
    "id": "YhQ_g8s9VnIl"
   },
   "outputs": [],
   "source": [
    "#write your code here.\n",
    "def showEmployee(name , salary):\n",
    "  return name , salary\n",
    "\n",
    "showEmployee(input(\"enter the name : \") , int(input(\"enter the salary : \")))"
   ]
  },
  {
   "cell_type": "code",
   "execution_count": 1,
   "metadata": {
    "id": "kfr-FZ6DEtu8"
   },
   "outputs": [],
   "source": [
    "def showEmployee():\n",
    "    name = input(\"Enter employee name:\")\n",
    "    salary = int(input(\"Enter salary:\"))\n",
    "    return name , salary"
   ]
  },
  {
   "cell_type": "code",
   "execution_count": 2,
   "metadata": {
    "id": "XPZgSJMSVM9z"
   },
   "outputs": [
    {
     "data": {
      "text/plain": [
       "('Sam', 2500)"
      ]
     },
     "execution_count": 2,
     "metadata": {},
     "output_type": "execute_result"
    }
   ],
   "source": [
    "showEmployee()"
   ]
  },
  {
   "cell_type": "markdown",
   "metadata": {
    "id": "rNvD8fqEVnj7"
   },
   "source": [
    "Question - 2 : Write a python program to create recursive function to calculate the sum of numbers from 0 to 10"
   ]
  },
  {
   "cell_type": "code",
   "execution_count": 3,
   "metadata": {
    "id": "NTvTcRRqVoTg"
   },
   "outputs": [
    {
     "data": {
      "text/plain": [
       "55"
      ]
     },
     "execution_count": 3,
     "metadata": {},
     "output_type": "execute_result"
    }
   ],
   "source": [
    "#write your code here.\n",
    "def rec_add(n):\n",
    "  if n == 0:\n",
    "    return 0\n",
    "  else:\n",
    "    return n + rec_add(n-1)\n",
    "\n",
    "rec_add(10)"
   ]
  },
  {
   "cell_type": "code",
   "execution_count": 4,
   "metadata": {
    "colab": {
     "base_uri": "https://localhost:8080/"
    },
    "executionInfo": {
     "elapsed": 620,
     "status": "ok",
     "timestamp": 1709278739821,
     "user": {
      "displayName": "SCSMCOE Sejal Bingi",
      "userId": "08585284948593724582"
     },
     "user_tz": -330
    },
    "id": "V4_VlZEQVoZ3",
    "outputId": "01adb4e4-9170-4633-9875-5fecda5cc996"
   },
   "outputs": [],
   "source": [
    "def recursive(n):\n",
    "    if n == 0:\n",
    "        return 0\n",
    "    else:\n",
    "        return n + recursive(n-1)"
   ]
  },
  {
   "cell_type": "code",
   "execution_count": 5,
   "metadata": {
    "id": "WBYg_DjAEyCp"
   },
   "outputs": [
    {
     "data": {
      "text/plain": [
       "45"
      ]
     },
     "execution_count": 5,
     "metadata": {},
     "output_type": "execute_result"
    }
   ],
   "source": [
    "recursive(9)"
   ]
  },
  {
   "cell_type": "markdown",
   "metadata": {
    "id": "EgLfgoUkVo26"
   },
   "source": [
    "Question - 3 : Write a python program to create reverse function of reverse a string.\n",
    "\n",
    "String : \"1234abcd\"\n",
    "\n",
    "Output : \"dcba4321\""
   ]
  },
  {
   "cell_type": "code",
   "execution_count": null,
   "metadata": {
    "id": "FEDW8bgGVqb2"
   },
   "outputs": [],
   "source": [
    "#write your code here.\n",
    "def reverse(s):\n",
    "  return s[::-1]\n",
    "\n",
    "reverse(\"1234abcd\")"
   ]
  },
  {
   "cell_type": "code",
   "execution_count": 6,
   "metadata": {
    "colab": {
     "base_uri": "https://localhost:8080/",
     "height": 35
    },
    "executionInfo": {
     "elapsed": 39,
     "status": "ok",
     "timestamp": 1709278729478,
     "user": {
      "displayName": "SCSMCOE Sejal Bingi",
      "userId": "08585284948593724582"
     },
     "user_tz": -330
    },
    "id": "A_t4B-MpEzWU",
    "outputId": "598bb17f-1b52-432e-f40e-4bf7ac44859c"
   },
   "outputs": [
    {
     "data": {
      "text/plain": [
       "'dcba4321'"
      ]
     },
     "execution_count": 6,
     "metadata": {},
     "output_type": "execute_result"
    }
   ],
   "source": [
    "def reverse(s):\n",
    "    return s[:: -1]\n",
    "\n",
    "reverse(\"1234abcd\")"
   ]
  },
  {
   "cell_type": "code",
   "execution_count": null,
   "metadata": {
    "id": "7m3mS0f6VqiA"
   },
   "outputs": [],
   "source": []
  },
  {
   "cell_type": "markdown",
   "metadata": {
    "id": "7myOm5N6Vq40"
   },
   "source": [
    "Question - 4 : Write a python program to create function to calculate the factorial of a number (a non-negative integer). The function accepts the number as an argument ."
   ]
  },
  {
   "cell_type": "code",
   "execution_count": 7,
   "metadata": {
    "id": "76v6xuxnVsOk"
   },
   "outputs": [],
   "source": [
    "#write your code here.\n",
    "def fact(n):\n",
    "    if n ==0:\n",
    "        return 1\n",
    "    else:\n",
    "        return n * fact(n-1)\n",
    "    "
   ]
  },
  {
   "cell_type": "code",
   "execution_count": 9,
   "metadata": {
    "colab": {
     "base_uri": "https://localhost:8080/"
    },
    "executionInfo": {
     "elapsed": 658,
     "status": "ok",
     "timestamp": 1709278853091,
     "user": {
      "displayName": "SCSMCOE Sejal Bingi",
      "userId": "08585284948593724582"
     },
     "user_tz": -330
    },
    "id": "pI2IGHoCE0e6",
    "outputId": "6dc5964b-b3e7-45de-9fe3-8c8ecb00ac0c"
   },
   "outputs": [
    {
     "data": {
      "text/plain": [
       "1"
      ]
     },
     "execution_count": 9,
     "metadata": {},
     "output_type": "execute_result"
    }
   ],
   "source": [
    "fact(0)"
   ]
  },
  {
   "cell_type": "markdown",
   "metadata": {
    "id": "1YuMtMrHVssG"
   },
   "source": [
    "Question - 5 : Write a python program to create a function that generate a Python list of all the even numbers between 4 to 30\n",
    "\n",
    "Output :  [4, 6, 8, 10, 12, 14, 16, 18, 20, 22, 24, 26, 28]"
   ]
  },
  {
   "cell_type": "code",
   "execution_count": 13,
   "metadata": {
    "id": "u5W7N1SdVuMl"
   },
   "outputs": [
    {
     "name": "stdout",
     "output_type": "stream",
     "text": [
      "[2, 4, 6, 8, 10, 12, 14, 16, 18]\n"
     ]
    }
   ],
   "source": [
    "#write your code here.\n",
    "def even():\n",
    "    lt=[]\n",
    "    for x in range(1,20):\n",
    "        if x%2==0:\n",
    "            lt.append(x)\n",
    "    print(lt)\n",
    "\n",
    "\n",
    "even()\n",
    "\n"
   ]
  },
  {
   "cell_type": "code",
   "execution_count": 12,
   "metadata": {
    "id": "9K68gtSmE1mz"
   },
   "outputs": [
    {
     "name": "stdout",
     "output_type": "stream",
     "text": [
      "4\n",
      "6\n",
      "8\n",
      "10\n",
      "12\n",
      "14\n",
      "16\n",
      "18\n",
      "20\n",
      "22\n",
      "24\n",
      "26\n",
      "28\n",
      "30\n"
     ]
    }
   ],
   "source": [
    "def even():\n",
    "  for x in range(4, 31):\n",
    "    if x%2==0:\n",
    "      print(x)\n",
    "\n",
    "even()"
   ]
  },
  {
   "cell_type": "markdown",
   "metadata": {
    "id": "4tToiTD2Vumq"
   },
   "source": [
    "Question - 6 : Write a python program to create a function that return the second largest item from the given list\n",
    "\n",
    "lt =  [4, 6, 8, 24, 12, 2 ,1]"
   ]
  },
  {
   "cell_type": "code",
   "execution_count": 18,
   "metadata": {
    "id": "a0ArGlhYVwOM"
   },
   "outputs": [
    {
     "name": "stdout",
     "output_type": "stream",
     "text": [
      "List : [1, 2, 3, 4, 5]\n",
      "largest element in the list is: 5\n",
      "second largest element 4\n",
      "third largest element 3\n"
     ]
    }
   ],
   "source": [
    "#write your code here.\n",
    "def second():\n",
    "    lt = []\n",
    "    n = int(input('Enter the size of the list:'))\n",
    "    for i in range(1,n+1):\n",
    "        lt.append(int(input('Enter the element: ')))\n",
    "    print('List :',lt)\n",
    "    m = max(lt)\n",
    "    print('largest element in the list is:',m)\n",
    "    c = lt.index(m)\n",
    "    lt.pop(c)\n",
    "    print(\"second largest element\", max(lt))\n",
    "    t = lt.index(max(lt))\n",
    "    lt.pop(t)\n",
    "    print(\"third largest element\", max(lt))\n",
    "\n",
    "second()"
   ]
  },
  {
   "cell_type": "markdown",
   "metadata": {
    "id": "0l3liwpkVwpE"
   },
   "source": [
    "Question - 7 : Write a python program to create a function that accepts a string and calculate the number of upper case letters and lower case letters.\n",
    "\n",
    "String :  Jobaaj Learnings\n",
    "\n",
    "No. of Upper case characters :  2\n",
    "\n",
    "No. of Lower case Characters :  13"
   ]
  },
  {
   "cell_type": "code",
   "execution_count": 29,
   "metadata": {
    "id": "tdOM7dIwVySn"
   },
   "outputs": [],
   "source": [
    "#write your code here.\n",
    "def uplow(s):\n",
    "\n",
    "    lower = 0\n",
    "    upper = 0\n",
    "    for i in s:\n",
    "        if i.islower():\n",
    "            lower += 1\n",
    "        elif i.isupper:\n",
    "            upper += 1\n",
    "        else:\n",
    "            pass\n",
    "    print(\"lower letters:\",lower)\n",
    "    print(\"upper letters:\",upper)\n"
   ]
  },
  {
   "cell_type": "code",
   "execution_count": 30,
   "metadata": {},
   "outputs": [
    {
     "name": "stdout",
     "output_type": "stream",
     "text": [
      "lower letters: 6\n",
      "upper letters: 3\n"
     ]
    }
   ],
   "source": [
    "uplow(\"Hello Sam\")"
   ]
  },
  {
   "cell_type": "code",
   "execution_count": 31,
   "metadata": {
    "id": "Sz6WoTvUVyYf"
   },
   "outputs": [
    {
     "name": "stdout",
     "output_type": "stream",
     "text": [
      "Lower letters are  6\n",
      "Upper letters are  2\n"
     ]
    }
   ],
   "source": [
    "def func(s):\n",
    "  lower = 0\n",
    "  upper = 0\n",
    "  for x in s:\n",
    "    if x.isupper():\n",
    "      upper +=1\n",
    "    elif x.islower():\n",
    "      lower +=1\n",
    "    else:\n",
    "      pass\n",
    "\n",
    "  print(\"Lower letters are \" , lower)\n",
    "  print(\"Upper letters are \" , upper)\n",
    "\n",
    "func(\"Hello Sam\")\n"
   ]
  },
  {
   "cell_type": "code",
   "execution_count": null,
   "metadata": {
    "id": "__yCXG5VE4gz"
   },
   "outputs": [],
   "source": []
  },
  {
   "cell_type": "markdown",
   "metadata": {
    "id": "FC745d1FVywv"
   },
   "source": [
    "Question - 8 : Write a python program to create a function that takes a list and returns a new list with unique elements of the first list.\n",
    "\n",
    "List : [1,2,3,3,3,3,4,5]\n",
    "\n",
    "Unique List : [1, 2, 3, 4, 5]"
   ]
  },
  {
   "cell_type": "code",
   "execution_count": 33,
   "metadata": {
    "id": "DVBmniXvV0kN"
   },
   "outputs": [
    {
     "name": "stdout",
     "output_type": "stream",
     "text": [
      "[1, 2, 5, 44, 88, 77, 6, 9, 9, 8]\n",
      "[1, 2, 5, 6, 8, 9, 44, 77, 88]\n"
     ]
    }
   ],
   "source": [
    "#write your code here.\n",
    "def unique():\n",
    "    lt = []\n",
    "    \n",
    "    n = 10\n",
    "    for i in range(n):\n",
    "        a = int(input(\"enter numbers:\"))\n",
    "        lt.append(a)\n",
    "    print(lt)\n",
    "    ut = list(set(lt))\n",
    "    print(ut)\n",
    "\n",
    "unique()"
   ]
  },
  {
   "cell_type": "markdown",
   "metadata": {
    "id": "kruJl8fbV1Cg"
   },
   "source": [
    "Question - 9 : Write a python program to create a funnction that print the even numbers from a given list.\n",
    "\n",
    "List : [1, 2, 3, 4, 5, 6, 7, 8, 9]\n",
    "\n",
    "Expected Result : [2, 4, 6, 8]"
   ]
  },
  {
   "cell_type": "code",
   "execution_count": 46,
   "metadata": {
    "id": "0IthtWD2V2iW"
   },
   "outputs": [],
   "source": [
    "#write your code here.\n",
    "def even():\n",
    "    lt = [1,2,3,4,5,6,7,8,9]\n",
    "    for i in lt:\n",
    "        if i % 2 == 0:\n",
    "            print(i)\n",
    "    \n",
    "            \n"
   ]
  },
  {
   "cell_type": "code",
   "execution_count": 47,
   "metadata": {},
   "outputs": [
    {
     "name": "stdout",
     "output_type": "stream",
     "text": [
      "2\n",
      "4\n",
      "6\n",
      "8\n"
     ]
    }
   ],
   "source": [
    "even()"
   ]
  },
  {
   "cell_type": "code",
   "execution_count": 48,
   "metadata": {
    "id": "7ZAA2DY8E8QB"
   },
   "outputs": [
    {
     "data": {
      "text/plain": [
       "[2, 4, 6, 8]"
      ]
     },
     "execution_count": 48,
     "metadata": {},
     "output_type": "execute_result"
    }
   ],
   "source": [
    "def listeven():\n",
    "  lt = [1,2,3,4,5,6,7,8,9]\n",
    "  ly=[]\n",
    "  for x in lt:\n",
    "    if x%2==0:\n",
    "      ly.append(x)\n",
    "    else:\n",
    "      pass\n",
    "\n",
    "  return ly\n",
    "\n",
    "listeven()\n"
   ]
  },
  {
   "cell_type": "code",
   "execution_count": null,
   "metadata": {
    "id": "oga_X3jgV2nv"
   },
   "outputs": [],
   "source": []
  },
  {
   "cell_type": "markdown",
   "metadata": {
    "id": "NYM3IMYEV29z"
   },
   "source": [
    "Question - 10 : Write a python program to  create a function  that checks whether a passed string is palindrome or not.\n",
    "\n",
    "HINT : -  A palindrome is a word, phrase, or sequence that reads the same backward as forward\n",
    "\n",
    "i.e : aba , naman"
   ]
  },
  {
   "cell_type": "code",
   "execution_count": 51,
   "metadata": {
    "id": "FHQXrGfqV4mm"
   },
   "outputs": [
    {
     "name": "stdout",
     "output_type": "stream",
     "text": [
      "it is not a palindrome\n"
     ]
    }
   ],
   "source": [
    "#write your code here.\n",
    "def pal(s):\n",
    "    a = reversed(s)\n",
    "    if list(a)==list(s):\n",
    "        print(\"it is a palindrome\")\n",
    "    else:\n",
    "        print(\"it is not a palindrome\")\n",
    "pal('ice')"
   ]
  },
  {
   "cell_type": "code",
   "execution_count": null,
   "metadata": {
    "id": "xReBBinyE9th"
   },
   "outputs": [],
   "source": [
    "def palindrome(s):\n",
    "  s1 = reversed(s)\n",
    "\n",
    "  if list(s) == list(s1):\n",
    "    print(\"given string is palindrome\")\n",
    "\n",
    "  else:\n",
    "    print(\"not palindrom\")\n",
    "\n",
    "palindrome(\"aba\")"
   ]
  }
 ],
 "metadata": {
  "colab": {
   "provenance": []
  },
  "kernelspec": {
   "display_name": "Python (tf_env)",
   "language": "python",
   "name": "tf_env"
  },
  "language_info": {
   "codemirror_mode": {
    "name": "ipython",
    "version": 3
   },
   "file_extension": ".py",
   "mimetype": "text/x-python",
   "name": "python",
   "nbconvert_exporter": "python",
   "pygments_lexer": "ipython3",
   "version": "3.9.19"
  }
 },
 "nbformat": 4,
 "nbformat_minor": 0
}
