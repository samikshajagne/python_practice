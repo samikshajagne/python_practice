{
 "cells": [
  {
   "cell_type": "markdown",
   "id": "4c0f632c",
   "metadata": {},
   "source": [
    "### extraction of digits"
   ]
  },
  {
   "cell_type": "code",
   "execution_count": 8,
   "id": "ba951c73",
   "metadata": {},
   "outputs": [
    {
     "name": "stdout",
     "output_type": "stream",
     "text": [
      "0\n",
      "9\n",
      "8\n",
      "7\n",
      "0\n",
      "6\n"
     ]
    }
   ],
   "source": [
    "n = 607890\n",
    "def extraction(num):\n",
    "    while num >0:\n",
    "        last_digit = num%10\n",
    "        print(last_digit)\n",
    "        num = num//10\n",
    "    return\n",
    "extraction(n)"
   ]
  },
  {
   "cell_type": "markdown",
   "id": "3459f4ca",
   "metadata": {},
   "source": [
    "### count of digits"
   ]
  },
  {
   "cell_type": "code",
   "execution_count": 9,
   "id": "b36a3462",
   "metadata": {},
   "outputs": [
    {
     "name": "stdout",
     "output_type": "stream",
     "text": [
      "3\n"
     ]
    }
   ],
   "source": [
    "def count(num):\n",
    "    count = 0\n",
    "    while num>0:\n",
    "        last_digit = num%10\n",
    "        count +=1\n",
    "        num=num//10\n",
    "    print(count)\n",
    "    return\n",
    "\n",
    "n=987\n",
    "count(n)\n",
    "        "
   ]
  },
  {
   "cell_type": "markdown",
   "id": "f851596b",
   "metadata": {},
   "source": [
    "### sum of digits"
   ]
  },
  {
   "cell_type": "code",
   "execution_count": 10,
   "id": "5c99c78b",
   "metadata": {},
   "outputs": [
    {
     "name": "stdout",
     "output_type": "stream",
     "text": [
      "24\n"
     ]
    }
   ],
   "source": [
    "def sum_of_digits(num):\n",
    "    sum = 0\n",
    "    while num >0:\n",
    "        element = num%10\n",
    "        sum+=element\n",
    "        num=num//10\n",
    "    print(sum)\n",
    "    return\n",
    "n = 987\n",
    "sum_of_digits(n)"
   ]
  },
  {
   "cell_type": "markdown",
   "id": "0e7f5ce2",
   "metadata": {},
   "source": [
    "### check palindrome"
   ]
  },
  {
   "cell_type": "code",
   "execution_count": 24,
   "id": "61e7fe9d",
   "metadata": {},
   "outputs": [
    {
     "name": "stdout",
     "output_type": "stream",
     "text": [
      "889\n",
      "988\n",
      "False\n"
     ]
    }
   ],
   "source": [
    "def palindrome(num):\n",
    "    n = num\n",
    "    print(num)\n",
    "    reverse = 0\n",
    "    while num >0:\n",
    "        ld = num%10\n",
    "        reverse = (reverse*10)+ ld\n",
    "        num = num//10\n",
    "    print(reverse)\n",
    "    if n == reverse:\n",
    "        print(\"True\")\n",
    "    else:\n",
    "        print('False')\n",
    "\n",
    "    return\n",
    "\n",
    "n = 889\n",
    "palindrome(n)\n"
   ]
  },
  {
   "cell_type": "markdown",
   "id": "51a71c2f",
   "metadata": {},
   "source": [
    "### armstrong "
   ]
  },
  {
   "cell_type": "code",
   "execution_count": 5,
   "id": "3968e344",
   "metadata": {},
   "outputs": [
    {
     "name": "stdout",
     "output_type": "stream",
     "text": [
      "3\n",
      "153\n",
      "True\n"
     ]
    }
   ],
   "source": [
    "n= 153\n",
    "def armstrong(num):\n",
    "    n=num\n",
    "    count = 0\n",
    "    total = 0\n",
    "    temp = num\n",
    "    while temp >0:\n",
    "        count += 1\n",
    "        temp = temp//10\n",
    "    print(count)\n",
    "    temp =num\n",
    "    while temp >0:\n",
    "        digit = temp%10\n",
    "        total = pow(digit,count) + total\n",
    "        temp = temp//10\n",
    "    print(total)\n",
    "    if total == n:\n",
    "        print('True')\n",
    "    else:\n",
    "        print('False')\n",
    "    return\n",
    "armstrong(n)\n"
   ]
  },
  {
   "cell_type": "markdown",
   "id": "d681d137",
   "metadata": {},
   "source": [
    "### factors of number"
   ]
  },
  {
   "cell_type": "code",
   "execution_count": 15,
   "id": "ff0c572a",
   "metadata": {},
   "outputs": [
    {
     "name": "stdout",
     "output_type": "stream",
     "text": [
      "1\n",
      "2\n",
      "5\n",
      "10\n"
     ]
    }
   ],
   "source": [
    "n = 10\n",
    "def factors(n):\n",
    "\n",
    "    for i in range(1,n+1):\n",
    "        if n%i==0:\n",
    "            print(i)\n",
    "\n",
    "factors(n)"
   ]
  },
  {
   "cell_type": "markdown",
   "id": "685dfbd2",
   "metadata": {},
   "source": [
    "### dictionary"
   ]
  },
  {
   "cell_type": "code",
   "execution_count": 7,
   "id": "81c308f8",
   "metadata": {},
   "outputs": [
    {
     "name": "stdout",
     "output_type": "stream",
     "text": [
      "{5: 1, 6: 1, 8: 2, 9: 2, 4: 3, 1: 1, 2: 2, 3: 1}\n",
      "4:3\n",
      "None\n"
     ]
    }
   ],
   "source": [
    "nums = [5,6,8,8,9,9,4,4,4,1,2,2,3]\n",
    "def dictionary(arr):\n",
    "    target = 4\n",
    "    freq_map ={}\n",
    "    for i in range(0,len(arr)):\n",
    "        if arr[i] in freq_map:\n",
    "            freq_map[arr[i]] += 1\n",
    "        else:\n",
    "            freq_map[arr[i]] = 1\n",
    "    print(freq_map)\n",
    "    print(f'{target}:{freq_map[target]}')\n",
    "    return\n",
    "\n",
    "print(dictionary(nums))"
   ]
  },
  {
   "cell_type": "code",
   "execution_count": 8,
   "id": "58990403",
   "metadata": {},
   "outputs": [
    {
     "name": "stdout",
     "output_type": "stream",
     "text": [
      "{5: 1, 6: 1, 8: 2, 9: 2, 4: 3, 1: 1, 2: 2, 3: 1}\n"
     ]
    }
   ],
   "source": [
    "nums = [5,6,8,8,9,9,4,4,4,1,2,2,3]\n",
    "hash_map ={}\n",
    "n = len(nums)\n",
    "for i in range(0,n):\n",
    "    hash_map[nums[i]] = hash_map.get(nums[i],0) +1\n",
    "print(hash_map)"
   ]
  },
  {
   "cell_type": "markdown",
   "id": "ecb7afa1",
   "metadata": {},
   "source": [
    "### hashing"
   ]
  },
  {
   "cell_type": "code",
   "execution_count": 3,
   "id": "fa3a681d",
   "metadata": {},
   "outputs": [
    {
     "name": "stdout",
     "output_type": "stream",
     "text": [
      "10 1\n",
      "111 0\n",
      "1 1\n",
      "9 0\n",
      "5 4\n",
      "6 0\n",
      "7 1\n",
      "2 2\n"
     ]
    }
   ],
   "source": [
    "n = [5,3,2,2,1,5,5,7,5,10]\n",
    "m = [10,111,1,9,5,6,7,2]\n",
    "for i in m:\n",
    "    count = 0\n",
    "    for x in n:\n",
    "        if x == i:\n",
    "            count +=1\n",
    "    print(i,count)\n"
   ]
  },
  {
   "cell_type": "code",
   "execution_count": 12,
   "id": "483ab72b",
   "metadata": {},
   "outputs": [
    {
     "name": "stdout",
     "output_type": "stream",
     "text": [
      "10 1\n",
      "0\n",
      "1 1\n",
      "9 0\n",
      "5 4\n",
      "6 0\n",
      "7 1\n",
      "2 2\n"
     ]
    }
   ],
   "source": [
    "# optimal\n",
    "n = [5,3,2,2,1,5,5,7,5,10]\n",
    "m = [10,111,1,9,5,6,7,2]\n",
    "hash_list = [0]*11\n",
    "for num in n:\n",
    "    hash_list[num] += 1\n",
    "for num in m:\n",
    "    if num<1 or num>10:\n",
    "        print(0)\n",
    "    else:\n",
    "        print(num,hash_list[num])"
   ]
  },
  {
   "cell_type": "code",
   "execution_count": 22,
   "id": "823ead1b",
   "metadata": {},
   "outputs": [
    {
     "name": "stdout",
     "output_type": "stream",
     "text": [
      "10 1\n",
      "111 0\n",
      "1 1\n",
      "9 0\n",
      "5 4\n",
      "6 0\n",
      "7 1\n",
      "2 2\n"
     ]
    }
   ],
   "source": [
    "#dictionary\n",
    "n = [5,3,2,2,1,5,5,7,5,10]\n",
    "m = [10,111,1,9,5,6,7,2]\n",
    "hash_list = {}\n",
    "for i in n:\n",
    "    if i in hash_list:\n",
    "        hash_list[i]+=1\n",
    "    else:\n",
    "        hash_list[i]=1\n",
    "for i in m:\n",
    "    print(i,hash_list.get(i,0))\n",
    "    "
   ]
  },
  {
   "cell_type": "code",
   "execution_count": 31,
   "id": "8b2f8327",
   "metadata": {},
   "outputs": [
    {
     "name": "stdout",
     "output_type": "stream",
     "text": [
      "[5, 0, 0, 0, 0, 0, 0, 0, 0, 0, 0, 0, 0, 0, 0, 0, 0, 0, 0, 0, 0, 0, 0, 1, 3, 2]\n",
      "0\n",
      "5\n",
      "2\n",
      "3\n"
     ]
    }
   ],
   "source": [
    "s = 'azyxyyzaaaa'\n",
    "q =['d','a','z','y']\n",
    "hash_list =[0]*26\n",
    "for ch in s:\n",
    "    ascii_value = ord(ch)\n",
    "    index = ascii_value-97\n",
    "    hash_list[index]+=1\n",
    "print(hash_list)\n",
    "for ch in q:\n",
    "    ascii_value = ord(ch)\n",
    "    index = ascii_value -97\n",
    "    print(hash_list[index])"
   ]
  },
  {
   "cell_type": "markdown",
   "id": "83ffaf22",
   "metadata": {},
   "source": [
    "## recursion"
   ]
  },
  {
   "cell_type": "code",
   "execution_count": 1,
   "id": "08b2ab4d",
   "metadata": {},
   "outputs": [
    {
     "name": "stdout",
     "output_type": "stream",
     "text": [
      "1\n",
      "2\n",
      "3\n",
      "4\n"
     ]
    }
   ],
   "source": [
    "def func(i,n):\n",
    "    if n == 0:\n",
    "        return\n",
    "    print(i)\n",
    "    func(i+1,n-1)\n",
    "func(1,4)\n"
   ]
  },
  {
   "cell_type": "code",
   "execution_count": 3,
   "id": "41104afa",
   "metadata": {},
   "outputs": [
    {
     "name": "stdout",
     "output_type": "stream",
     "text": [
      "4\n",
      "3\n",
      "2\n",
      "1\n"
     ]
    }
   ],
   "source": [
    "#backtracking\n",
    "def func(i,n):\n",
    "    if n == 0:\n",
    "        return \n",
    "    func(i+1,n-1)\n",
    "    print(i)\n",
    "func(1,4)"
   ]
  },
  {
   "cell_type": "code",
   "execution_count": 4,
   "id": "2f7b3bb7",
   "metadata": {},
   "outputs": [
    {
     "name": "stdout",
     "output_type": "stream",
     "text": [
      "4\n",
      "3\n",
      "2\n",
      "1\n",
      "0\n"
     ]
    }
   ],
   "source": [
    "def func(n):\n",
    "    if n<0:\n",
    "        return\n",
    "    print(n)\n",
    "    func(n-1)\n",
    "\n",
    "func(4)"
   ]
  },
  {
   "cell_type": "code",
   "execution_count": 5,
   "id": "919bc413",
   "metadata": {},
   "outputs": [
    {
     "name": "stdout",
     "output_type": "stream",
     "text": [
      "0\n",
      "1\n",
      "2\n",
      "3\n",
      "4\n"
     ]
    }
   ],
   "source": [
    "def func(n):\n",
    "    if n<0:\n",
    "        return\n",
    "    func(n-1)\n",
    "    print(n)\n",
    "func(4)"
   ]
  },
  {
   "cell_type": "code",
   "execution_count": 7,
   "id": "562964fe",
   "metadata": {},
   "outputs": [
    {
     "name": "stdout",
     "output_type": "stream",
     "text": [
      "10\n"
     ]
    }
   ],
   "source": [
    "#parameterized recursion\n",
    "def func(sum,i,n):\n",
    "    if i>n:\n",
    "        print(sum)\n",
    "        return\n",
    "    func(sum+i,i+1,n)\n",
    "\n",
    "func(0,1,4)"
   ]
  },
  {
   "cell_type": "code",
   "execution_count": 9,
   "id": "1a05bc70",
   "metadata": {},
   "outputs": [
    {
     "name": "stdout",
     "output_type": "stream",
     "text": [
      "10\n"
     ]
    }
   ],
   "source": [
    "#functional recursion\n",
    "def func(n):\n",
    "    if n==1:\n",
    "        return 1\n",
    "    return n+func(n-1)\n",
    "\n",
    "x = func(4)\n",
    "print(x)"
   ]
  },
  {
   "cell_type": "code",
   "execution_count": 15,
   "id": "f6b2b47a",
   "metadata": {},
   "outputs": [
    {
     "name": "stdout",
     "output_type": "stream",
     "text": [
      "120\n"
     ]
    }
   ],
   "source": [
    "#factorial\n",
    "\n",
    "def fact(n):\n",
    "    if n==0:\n",
    "        return 1\n",
    "    return n*fact(n-1)\n",
    "\n",
    "x=fact(5)\n",
    "print(x)"
   ]
  },
  {
   "cell_type": "code",
   "execution_count": null,
   "id": "9455faff",
   "metadata": {},
   "outputs": [
    {
     "name": "stdout",
     "output_type": "stream",
     "text": [
      "[5, 7, 5, 1, 2, 3, 9]\n"
     ]
    }
   ],
   "source": [
    "# reversing an array\n",
    "\n",
    "def rev(num,left,right):\n",
    "   if left >= right:\n",
    "      return\n",
    "   num[left],num[right]=num[right],num[left]\n",
    "   rev(num,left+1,right-1)\n",
    "\n",
    "num = [5,7,3,2,1,5,9]\n",
    "rev(num,2,5)\n",
    "print(num)"
   ]
  },
  {
   "cell_type": "code",
   "execution_count": 37,
   "id": "ebf5cb5f",
   "metadata": {},
   "outputs": [
    {
     "name": "stdout",
     "output_type": "stream",
     "text": [
      "False\n"
     ]
    }
   ],
   "source": [
    "def palin(s,l,r):\n",
    "    if l > r:\n",
    "            return True\n",
    "    if s[l] != s[r]:\n",
    "          return False\n",
    "    return palin(s,l+1,r-1)\n",
    "\n",
    "s = 'sam'\n",
    "print(palin(s,0,len(s)-1))"
   ]
  },
  {
   "cell_type": "code",
   "execution_count": 40,
   "id": "a1450c1a",
   "metadata": {},
   "outputs": [
    {
     "name": "stdout",
     "output_type": "stream",
     "text": [
      "True\n"
     ]
    }
   ],
   "source": [
    "def pal(s):\n",
    "    n = len(s)\n",
    "    l=0\n",
    "    r=n-1\n",
    "    while l <r:\n",
    "        if s[l]==s[r]:\n",
    "            return True\n",
    "        l +=1\n",
    "        r-=1\n",
    "    return True\n",
    "\n",
    "print(pal('madam'))"
   ]
  },
  {
   "cell_type": "code",
   "execution_count": 43,
   "id": "eaccdf39",
   "metadata": {},
   "outputs": [
    {
     "name": "stdout",
     "output_type": "stream",
     "text": [
      "2\n"
     ]
    }
   ],
   "source": [
    "def fib(num):\n",
    "    if num ==0 or num==1:\n",
    "        return num\n",
    "    return fib(num-1)+fib(num-2)\n",
    "\n",
    "print(fib(3))"
   ]
  },
  {
   "cell_type": "markdown",
   "id": "0002d4a7",
   "metadata": {},
   "source": [
    "### Sorting"
   ]
  },
  {
   "cell_type": "code",
   "execution_count": null,
   "id": "c9bfb4c2",
   "metadata": {},
   "outputs": [
    {
     "name": "stdout",
     "output_type": "stream",
     "text": [
      "[1, 2, 5, 6, 7, 8]\n"
     ]
    }
   ],
   "source": [
    "#selection sort (ascending order)\n",
    "def sel_sort(num):\n",
    "    n = len(num)\n",
    "    for i in range(0,n):\n",
    "        min_index= i\n",
    "        for j in range(i+1,n):\n",
    "            if num[min_index]>num[j]:\n",
    "                min_index=j\n",
    "        num[i],num[min_index]=num[min_index],num[i]\n",
    "        i +=1\n",
    "    return num\n",
    "\n",
    "arr = [7,8,6,5,2,1]\n",
    "print(sel_sort(arr))"
   ]
  },
  {
   "cell_type": "code",
   "execution_count": null,
   "id": "d28c55b6",
   "metadata": {},
   "outputs": [
    {
     "name": "stdout",
     "output_type": "stream",
     "text": [
      "[8, 7, 6, 5, 2, 1]\n"
     ]
    }
   ],
   "source": [
    "#selection sort (descending order)\n",
    "def sel_sort(num):\n",
    "    n = len(num)\n",
    "    for i in range(0,n):\n",
    "        min_index= i\n",
    "        for j in range(i+1,n):\n",
    "            if num[min_index]<num[j]:\n",
    "                min_index=j\n",
    "        num[i],num[min_index]=num[min_index],num[i]\n",
    "        i +=1\n",
    "    return num\n",
    "\n",
    "arr = [7,8,6,5,2,1]\n",
    "print(sel_sort(arr))"
   ]
  },
  {
   "cell_type": "code",
   "execution_count": 60,
   "id": "381a7c72",
   "metadata": {},
   "outputs": [
    {
     "name": "stdout",
     "output_type": "stream",
     "text": [
      "[9, 5, 7, 1]\n"
     ]
    }
   ],
   "source": [
    "# bubble sort (ascending order)\n",
    "def bubble(arr):\n",
    "    n = len(arr)\n",
    "    for i in range(0,n):\n",
    "        for j in range(0,n-i-1):\n",
    "            if arr[i]>arr[j]:\n",
    "                arr[i],arr[j]=arr[j],arr[i]\n",
    "    return arr\n",
    "\n",
    "arr = [7,5,9,1]\n",
    "print(bubble(arr))"
   ]
  },
  {
   "cell_type": "code",
   "execution_count": 61,
   "id": "bedfabd2",
   "metadata": {},
   "outputs": [
    {
     "name": "stdout",
     "output_type": "stream",
     "text": [
      "[5, 9, 7, 1]\n"
     ]
    }
   ],
   "source": [
    "# bubble sort (descending order)\n",
    "def bubble(arr):\n",
    "    n = len(arr)\n",
    "    for i in range(0,n):\n",
    "        for j in range(0,n-i-1):\n",
    "            if arr[i]<arr[j]:\n",
    "                arr[i],arr[j]=arr[j],arr[i]\n",
    "    return arr\n",
    "\n",
    "arr = [7,5,9,1]\n",
    "print(bubble(arr))"
   ]
  },
  {
   "cell_type": "code",
   "execution_count": 67,
   "id": "038b94ee",
   "metadata": {},
   "outputs": [
    {
     "name": "stdout",
     "output_type": "stream",
     "text": [
      "[1, 5, 7, 9]\n"
     ]
    }
   ],
   "source": [
    "# insertion sort \n",
    "def insertion(arr):\n",
    "  n = len(arr)\n",
    "  for i in range(1,n):\n",
    "    key = arr[i]\n",
    "    j=i-1\n",
    "    while j>=0 and arr[j]>key:\n",
    "      arr[j+1]=arr[j]\n",
    "      j-=1\n",
    "    arr[j+1]=key\n",
    "  return arr\n",
    "arr=[7,5,9,1]\n",
    "print(insertion(arr))\n"
   ]
  },
  {
   "cell_type": "code",
   "execution_count": 77,
   "id": "33cd66ae",
   "metadata": {},
   "outputs": [
    {
     "name": "stdout",
     "output_type": "stream",
     "text": [
      "[1, 5, 6, 7, 7, 8, 9]\n"
     ]
    }
   ],
   "source": [
    "# merge sort\n",
    "def sort(arr):\n",
    "    if len(arr)<=1:\n",
    "        return arr\n",
    "    mid = len(arr)//2\n",
    "    left = sort(arr[:mid])\n",
    "    right = sort(arr[mid:])\n",
    "    return  merge(left,right)\n",
    "    \n",
    "\n",
    "def merge(left,right):\n",
    "    result =[]\n",
    "    i,j=0,0\n",
    "    n,m=len(left),len(right)\n",
    "    while i<n and j<m:\n",
    "        if left[i]<right[j]:\n",
    "            result.append(left[i])\n",
    "            i += 1\n",
    "        else :\n",
    "            result.append(right[j])\n",
    "            j += 1\n",
    "\n",
    "    while i <n:\n",
    "        result.append(left[i])\n",
    "        i+=1\n",
    "    while j<m:\n",
    "        result.append(right[j])\n",
    "        j +=1\n",
    "    return result\n",
    "\n",
    "arr = [8,7,9,5,6,1,7]\n",
    "print(sort(arr))"
   ]
  },
  {
   "cell_type": "code",
   "execution_count": 10,
   "id": "e40e7ddb",
   "metadata": {},
   "outputs": [
    {
     "name": "stdout",
     "output_type": "stream",
     "text": [
      "[1, 2, 3, 4, 6, 7, 8]\n"
     ]
    }
   ],
   "source": [
    "# quick sort\n",
    "\n",
    "def partition(nums,low,high):\n",
    "    pivot = nums[low]\n",
    "    i = low\n",
    "    j =high\n",
    "    while i<j:\n",
    "        while nums[i]<=pivot and i<=high-1:\n",
    "            i +=1\n",
    "        while nums[j]>pivot and j>=low+1:\n",
    "            j-=1\n",
    "        if i<j:\n",
    "            nums[i],nums[j]=nums[j],nums[i]\n",
    "    nums[low],nums[j]=nums[j],nums[low]\n",
    "    return j\n",
    "def quick_sort(nums,low,high):\n",
    "    if low < high:\n",
    "        p_index = partition(nums,low,high)\n",
    "        quick_sort(nums,low,p_index-1)\n",
    "        quick_sort(nums,p_index+1,high)\n",
    "    return nums\n",
    "nums =[4,1,7,6,3,2,8]\n",
    "n = len(nums)\n",
    "print(quick_sort(nums,0,n-1))\n"
   ]
  },
  {
   "cell_type": "code",
   "execution_count": null,
   "id": "e6b56eeb",
   "metadata": {},
   "outputs": [],
   "source": []
  }
 ],
 "metadata": {
  "kernelspec": {
   "display_name": "Python (bc)",
   "language": "python",
   "name": "bc"
  },
  "language_info": {
   "codemirror_mode": {
    "name": "ipython",
    "version": 3
   },
   "file_extension": ".py",
   "mimetype": "text/x-python",
   "name": "python",
   "nbconvert_exporter": "python",
   "pygments_lexer": "ipython3",
   "version": "3.10.18"
  }
 },
 "nbformat": 4,
 "nbformat_minor": 5
}
