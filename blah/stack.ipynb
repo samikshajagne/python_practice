{
 "cells": [
  {
   "cell_type": "markdown",
   "id": "87de6094",
   "metadata": {},
   "source": [
    "### Stack \n",
    "it is a lifo data structure <br>\n",
    "last in first out <br>\n",
    "can be implemented using arrays and linked list <br>"
   ]
  },
  {
   "cell_type": "markdown",
   "id": "a4e9aab5",
   "metadata": {},
   "source": [
    "#### operations in array\n",
    "1.push <br>\n",
    "2.pop <br>\n",
    "3.top <br>\n",
    "4. is empty <br>\n",
    "5. is full\n"
   ]
  },
  {
   "cell_type": "code",
   "execution_count": null,
   "id": "92c7966d",
   "metadata": {},
   "outputs": [
    {
     "name": "stdout",
     "output_type": "stream",
     "text": [
      "[1, 2, 3, 4, 5]\n",
      "popped: 5\n",
      "[1, 2, 3, 4]\n",
      "4\n",
      "[1, 2, 3, 4]\n"
     ]
    }
   ],
   "source": [
    "class stack_array:\n",
    "\n",
    "    def __init__(self):\n",
    "        self.stack =[]\n",
    "\n",
    "    def push(self,num):\n",
    "        self.stack.append(num)\n",
    "    \n",
    "    def pop(self):\n",
    "        if len(self.stack)==0:\n",
    "            print(\"Stack Underflow..\")\n",
    "        else:\n",
    "            popped = self.stack[-1]\n",
    "            self.stack=self.stack[:-1]\n",
    "            print(f\"popped: {popped}\")\n",
    "            \n",
    "    def top(self):\n",
    "        if len(self.stack)==0:\n",
    "            print(\"Stack underflow\")\n",
    "        else:\n",
    "            print(self.stack[-1])\n",
    "\n",
    "\n",
    "    def display(self):\n",
    "        print(self.stack)\n",
    "\n",
    "my_stack = stack_array()\n",
    "\n",
    "length = int(input('Enter the length of array: '))\n",
    "for i in range(length):\n",
    "    num = int(input('Enter Element: '))\n",
    "    my_stack.push(num)\n",
    "\n",
    "my_stack.display()\n",
    "my_stack.pop()\n",
    "my_stack.display()\n",
    "my_stack.top()\n",
    "my_stack.display()"
   ]
  },
  {
   "cell_type": "code",
   "execution_count": 11,
   "id": "1407e205",
   "metadata": {},
   "outputs": [
    {
     "name": "stdout",
     "output_type": "stream",
     "text": [
      "5->4->3->2->1->None\n",
      "top : 5\n",
      "popped data : 5\n",
      "4->3->2->1->None\n"
     ]
    }
   ],
   "source": [
    "class Node:\n",
    "    def __init__(self,data):\n",
    "        self.data = data\n",
    "        self.next = next\n",
    "\n",
    "class Stack_ll:\n",
    "    def __init__(self):\n",
    "        self.top = None\n",
    "    \n",
    "    def push(self,data):\n",
    "        new_node = Node(data)\n",
    "        new_node.next = self.top\n",
    "\n",
    "        self.top = new_node\n",
    "    \n",
    "    def pop(self):\n",
    "        if self.top is None:\n",
    "            print(\"Stack Underflow\")\n",
    "        else:\n",
    "            popped = self.top.data\n",
    "            self.top = self.top.next\n",
    "            print(f\"popped data : {popped}\")\n",
    "\n",
    "    def peek(self):\n",
    "        if self.top is None:\n",
    "            print(\"Stack underflow\")\n",
    "        else:\n",
    "            print(f\"top : {self.top.data}\")\n",
    "\n",
    "    def display(self):\n",
    "        current =self.top\n",
    "        while current:\n",
    "            print(current.data, end='->')\n",
    "            current = current.next\n",
    "        print(\"None\")\n",
    "\n",
    "my_stack = Stack_ll()\n",
    "\n",
    "length = int(input('Enter the length of array: '))\n",
    "for i in range(length):\n",
    "    num = int(input('Enter Element: '))\n",
    "    my_stack.push(num)\n",
    "\n",
    "my_stack.display()\n",
    "my_stack.peek()\n",
    "my_stack.pop()\n",
    "my_stack.display()"
   ]
  },
  {
   "cell_type": "code",
   "execution_count": null,
   "id": "b6813eeb",
   "metadata": {},
   "outputs": [],
   "source": []
  }
 ],
 "metadata": {
  "kernelspec": {
   "display_name": "Python (bc)",
   "language": "python",
   "name": "bc"
  },
  "language_info": {
   "codemirror_mode": {
    "name": "ipython",
    "version": 3
   },
   "file_extension": ".py",
   "mimetype": "text/x-python",
   "name": "python",
   "nbconvert_exporter": "python",
   "pygments_lexer": "ipython3",
   "version": "3.10.18"
  }
 },
 "nbformat": 4,
 "nbformat_minor": 5
}
