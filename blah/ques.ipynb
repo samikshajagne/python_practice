{
 "cells": [
  {
   "cell_type": "markdown",
   "id": "7d15480e",
   "metadata": {},
   "source": [
    "Write a function that accepts a string and returns the most frequent character and its count."
   ]
  },
  {
   "cell_type": "code",
   "execution_count": 1,
   "id": "ff0b4686",
   "metadata": {},
   "outputs": [
    {
     "name": "stdout",
     "output_type": "stream",
     "text": [
      "e 2\n"
     ]
    }
   ],
   "source": [
    "s = 'placement'\n",
    "dic = {}\n",
    "for ch in s:\n",
    "    dic[ch] = dic.get(ch, 0)+1\n",
    "max_ch = max(dic, key=dic.get)\n",
    "print(max_ch,dic[max_ch])"
   ]
  },
  {
   "cell_type": "code",
   "execution_count": 5,
   "id": "3889da0a",
   "metadata": {},
   "outputs": [
    {
     "name": "stdout",
     "output_type": "stream",
     "text": [
      "e 2\n"
     ]
    }
   ],
   "source": [
    "s = input(\"enter a string:\")\n",
    "d ={}\n",
    "for c in s:\n",
    "    if c not in d:\n",
    "        d[c] = 1\n",
    "    else:\n",
    "        d[c]+=1\n",
    "max_ch =max(d, key=d.get)\n",
    "print(max_ch,d[max_ch])"
   ]
  },
  {
   "cell_type": "code",
   "execution_count": 14,
   "id": "dc120bb4",
   "metadata": {},
   "outputs": [
    {
     "name": "stdout",
     "output_type": "stream",
     "text": [
      "e 2\n"
     ]
    }
   ],
   "source": [
    "s = 'placement'\n",
    "common = max(s,key=s.count)\n",
    "count = s.count(common)\n",
    "print(common,count)"
   ]
  },
  {
   "cell_type": "code",
   "execution_count": 15,
   "id": "e6dd29cc",
   "metadata": {},
   "outputs": [
    {
     "name": "stdout",
     "output_type": "stream",
     "text": [
      "e 2\n"
     ]
    }
   ],
   "source": [
    "s = 'placement'\n",
    "common = max(s,key=s.count)\n",
    "count= s.count(common)\n",
    "print(common,count)"
   ]
  },
  {
   "cell_type": "code",
   "execution_count": null,
   "id": "40b309c6",
   "metadata": {},
   "outputs": [],
   "source": []
  }
 ],
 "metadata": {
  "kernelspec": {
   "display_name": "Python (bc)",
   "language": "python",
   "name": "bc"
  },
  "language_info": {
   "codemirror_mode": {
    "name": "ipython",
    "version": 3
   },
   "file_extension": ".py",
   "mimetype": "text/x-python",
   "name": "python",
   "nbconvert_exporter": "python",
   "pygments_lexer": "ipython3",
   "version": "3.10.18"
  }
 },
 "nbformat": 4,
 "nbformat_minor": 5
}
