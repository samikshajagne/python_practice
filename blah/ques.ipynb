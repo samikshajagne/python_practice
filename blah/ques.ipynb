{
 "cells": [
  {
   "cell_type": "markdown",
   "id": "7d15480e",
   "metadata": {},
   "source": [
    "Write a function that accepts a string and returns the most frequent character and its count."
   ]
  },
  {
   "cell_type": "code",
   "execution_count": 1,
   "id": "ff0b4686",
   "metadata": {},
   "outputs": [
    {
     "name": "stdout",
     "output_type": "stream",
     "text": [
      "e 2\n"
     ]
    }
   ],
   "source": [
    "s = 'placement'\n",
    "dic = {}\n",
    "for ch in s:\n",
    "    dic[ch] = dic.get(ch, 0)+1\n",
    "max_ch = max(dic, key=dic.get)\n",
    "print(max_ch,dic[max_ch])"
   ]
  }
 ],
 "metadata": {
  "kernelspec": {
   "display_name": "Python (bc)",
   "language": "python",
   "name": "bc"
  },
  "language_info": {
   "codemirror_mode": {
    "name": "ipython",
    "version": 3
   },
   "file_extension": ".py",
   "mimetype": "text/x-python",
   "name": "python",
   "nbconvert_exporter": "python",
   "pygments_lexer": "ipython3",
   "version": "3.10.18"
  }
 },
 "nbformat": 4,
 "nbformat_minor": 5
}
