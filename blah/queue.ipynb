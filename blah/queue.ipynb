{
 "cells": [
  {
   "cell_type": "markdown",
   "id": "e934da3a",
   "metadata": {},
   "source": [
    "### Queue\n",
    "A queue is a linear data structure that follows the FIFO principle — First In, First Out.\n",
    "<br>\n",
    "enqueue : adding an element to front <br>\n",
    "dequeue :deleting an element from the front <br>\n",
    "peek / front : view front element <br>\n",
    "display : show all elements"
   ]
  },
  {
   "cell_type": "code",
   "execution_count": 2,
   "id": "198ee1ad",
   "metadata": {},
   "outputs": [
    {
     "name": "stdout",
     "output_type": "stream",
     "text": [
      "[1, 2, 3, 4, 5]\n",
      "1\n",
      "popped: 1\n",
      "[2, 3, 4, 5]\n"
     ]
    }
   ],
   "source": [
    "class queue_array:\n",
    "    def __init__(self):\n",
    "        self.queue = []\n",
    "\n",
    "    def enqueue(self,num):\n",
    "        self.queue.append(num)\n",
    "    \n",
    "    def dequeue(self):\n",
    "        if len(self.queue)==0:\n",
    "            print(\"Underflow\")\n",
    "        else:\n",
    "            popped = self.queue[0]\n",
    "            self.queue = self.queue[1:]\n",
    "            print(f\"popped: {popped}\")\n",
    "\n",
    "    def peek(self):\n",
    "        if len(self.queue)==0:\n",
    "            print(\"underflow\")\n",
    "        else:\n",
    "            print(self.queue[0])\n",
    "\n",
    "    def display(self):\n",
    "        print(self.queue)\n",
    "\n",
    "my_queue = queue_array()\n",
    "length = int(input(\"Enter the length of queue :\"))\n",
    "for i in range(length):\n",
    "    num = int(input(\"enter the element: \"))\n",
    "    my_queue.enqueue(num)\n",
    "my_queue.display()\n",
    "my_queue.peek()\n",
    "my_queue.dequeue()\n",
    "my_queue.display()"
   ]
  },
  {
   "cell_type": "code",
   "execution_count": 6,
   "id": "35d562d2",
   "metadata": {},
   "outputs": [
    {
     "name": "stdout",
     "output_type": "stream",
     "text": [
      "1 -> 2 -> 3 -> 4 -> 5 -> None\n",
      "front elemnt: 1\n",
      "popped : 1\n",
      "2 -> 3 -> 4 -> 5 -> None\n"
     ]
    }
   ],
   "source": [
    "class Node:\n",
    "    def __init__(self,data):\n",
    "        self.data = data\n",
    "        self.next = None\n",
    "    \n",
    "class queue_ll:\n",
    "    def __init__(self):\n",
    "        self.front = None\n",
    "        self.rear = None\n",
    "    \n",
    "    def enqueue(self,data):\n",
    "        new_node = Node(data)\n",
    "        if self.rear is None:\n",
    "            self.front = self.rear = new_node\n",
    "        else:\n",
    "            self.rear.next = new_node\n",
    "            self.rear = new_node\n",
    "    \n",
    "    def dequeue(self):\n",
    "        if self.front is None :\n",
    "            print(\"Underflow\")\n",
    "        else:\n",
    "            popped = self.front.data\n",
    "            self.front = self.front.next\n",
    "            print(f\"popped : {popped}\")\n",
    "\n",
    "    def peek(self):\n",
    "        if self.front is None:\n",
    "            print(\"underflow\")\n",
    "        else:\n",
    "            print(f\"front elemnt: {self.front.data}\")\n",
    "\n",
    "    def display(self):\n",
    "        if self.front is None:\n",
    "            print(\"underflow\")\n",
    "        else:\n",
    "            current = self.front\n",
    "            while current:\n",
    "                print(current.data, end=\" -> \")\n",
    "                current = current.next\n",
    "            print(\"None\")\n",
    "        \n",
    "my_queue = queue_ll()\n",
    "length = int(input(\"Enter the length of queue :\"))\n",
    "for i in range(length):\n",
    "    num = int(input(\"enter the element: \"))\n",
    "    my_queue.enqueue(num)\n",
    "my_queue.display()\n",
    "my_queue.peek()\n",
    "my_queue.dequeue()\n",
    "my_queue.display()"
   ]
  },
  {
   "cell_type": "code",
   "execution_count": null,
   "id": "afb8e09b",
   "metadata": {},
   "outputs": [],
   "source": []
  }
 ],
 "metadata": {
  "kernelspec": {
   "display_name": "Python (bc)",
   "language": "python",
   "name": "bc"
  },
  "language_info": {
   "codemirror_mode": {
    "name": "ipython",
    "version": 3
   },
   "file_extension": ".py",
   "mimetype": "text/x-python",
   "name": "python",
   "nbconvert_exporter": "python",
   "pygments_lexer": "ipython3",
   "version": "3.10.18"
  }
 },
 "nbformat": 4,
 "nbformat_minor": 5
}
