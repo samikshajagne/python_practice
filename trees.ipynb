{
 "cells": [
  {
   "cell_type": "code",
   "execution_count": null,
   "id": "5eab5e27",
   "metadata": {},
   "outputs": [],
   "source": [
    "class tree:\n",
    "    def __init__(self,data):\n",
    "        self.data =data\n",
    "        self.children = []\n",
    "\n",
    "root = tree(1)\n",
    "child1 = tree(2)\n",
    "child2 = tree(3)\n",
    "child3 = tree(4)"
   ]
  },
  {
   "cell_type": "code",
   "execution_count": null,
   "id": "ca01a24d",
   "metadata": {},
   "outputs": [],
   "source": [
    "root.children.extend(child1,child2,child3)"
   ]
  },
  {
   "cell_type": "markdown",
   "id": "947e901d",
   "metadata": {},
   "source": []
  }
 ],
 "metadata": {
  "kernelspec": {
   "display_name": "tf_env",
   "language": "python",
   "name": "python3"
  },
  "language_info": {
   "codemirror_mode": {
    "name": "ipython",
    "version": 3
   },
   "file_extension": ".py",
   "mimetype": "text/x-python",
   "name": "python",
   "nbconvert_exporter": "python",
   "pygments_lexer": "ipython3",
   "version": "3.9.19"
  }
 },
 "nbformat": 4,
 "nbformat_minor": 5
}
