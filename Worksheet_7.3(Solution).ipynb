{
 "cells": [
  {
   "cell_type": "markdown",
   "metadata": {
    "id": "zMr3VtD1f6eQ"
   },
   "source": [
    "##Functions in python Worksheet 7.3"
   ]
  },
  {
   "cell_type": "markdown",
   "metadata": {
    "id": "FjaIfC3mgEek"
   },
   "source": [
    "Question - 1 : Write a python program to create a function that prints  Pascal's triangle. \n",
    "\n",
    "\n",
    "\n",
    "Pascal's triangle :\n",
    "\n",
    "1 \n",
    "\n",
    "1 1 \n",
    "\n",
    "1 2 1 \n",
    "\n",
    "1 3 3 1 \n",
    "\n",
    "1 4 6 4 1 \n"
   ]
  },
  {
   "cell_type": "code",
   "execution_count": null,
   "metadata": {
    "id": "Vxz9fHLahknD"
   },
   "outputs": [],
   "source": [
    "#write your code here . "
   ]
  },
  {
   "cell_type": "code",
   "execution_count": 1,
   "metadata": {
    "id": "K4m2eW5yGQP6"
   },
   "outputs": [
    {
     "name": "stdout",
     "output_type": "stream",
     "text": [
      "1 \n",
      "1 1 \n",
      "1 2 1 \n",
      "1 3 3 1 \n",
      "1 4 6 4 1 \n"
     ]
    }
   ],
   "source": [
    "def printPascal(n):\n",
    "    for line in range(1,n + 1):\n",
    "        C = 1 \n",
    "        for i in range(1, line + 1):\n",
    "            print(C, end = \" \")\n",
    "            C = int(C * (line - i) / i)\n",
    "        print(\"\")\n",
    "n = 5\n",
    "printPascal(n)"
   ]
  },
  {
   "cell_type": "code",
   "execution_count": null,
   "metadata": {
    "id": "C_LYGVIVhktH"
   },
   "outputs": [],
   "source": []
  },
  {
   "cell_type": "markdown",
   "metadata": {
    "id": "li6OtUsxhlCP"
   },
   "source": [
    "Question - 2 : Write a python program to create a  function  to check whether a string is a pangram or not.\n",
    "\n",
    "Note : Pangrams are words or sentences containing every letter of the alphabet at least once.\n",
    "\n",
    "example : \"The quick brown fox jumps over the lazy dog\""
   ]
  },
  {
   "cell_type": "code",
   "execution_count": null,
   "metadata": {
    "id": "78qY4lDfhm3U"
   },
   "outputs": [],
   "source": [
    "#write your code here . "
   ]
  },
  {
   "cell_type": "code",
   "execution_count": null,
   "metadata": {
    "id": "PZwTuQBaGRJd"
   },
   "outputs": [],
   "source": [
    "def pangram(str):\n",
    "  text = []\n",
    "  for x in str.replace(\" \", \"\").lower():\n",
    "    if x not in text:\n",
    "      text.append(x)\n",
    "      text1 = text\n",
    "      length = len(text1)\n",
    "\n",
    "  if length == 26:  \n",
    "    print(\"Yes, it's a pangram\")\n",
    "  else:\n",
    "    print(\"No, it's not a pangram\")\n",
    "\n",
    "pangram(\"The quick brown fox jumps over the lazy dog\")"
   ]
  },
  {
   "cell_type": "code",
   "execution_count": null,
   "metadata": {
    "id": "Hfzt4YL5GQ7z"
   },
   "outputs": [],
   "source": []
  },
  {
   "cell_type": "markdown",
   "metadata": {
    "id": "a7pbs68vhnZG"
   },
   "source": [
    "Question - 3 : Write a python program to create a  function  to create and print a list where the values are square of numbers between 1 and 20 . "
   ]
  },
  {
   "cell_type": "code",
   "execution_count": null,
   "metadata": {
    "id": "lSPZif4chpEm"
   },
   "outputs": [],
   "source": [
    "#write your code here . "
   ]
  },
  {
   "cell_type": "code",
   "execution_count": null,
   "metadata": {
    "id": "VtbOu2aZGTAB"
   },
   "outputs": [],
   "source": [
    "def squere():\n",
    "  lt=[]\n",
    "  for x in range(21):\n",
    "    lt.append(x*x)\n",
    "  \n",
    "  print(lt) \n",
    "squere()"
   ]
  },
  {
   "cell_type": "code",
   "execution_count": null,
   "metadata": {
    "id": "ysvqbNQBhpLL"
   },
   "outputs": [],
   "source": []
  },
  {
   "cell_type": "markdown",
   "metadata": {
    "id": "Rtt-xI0Dhpf7"
   },
   "source": [
    "Question - 4 : Write a python program to create a  function x(n) for computing an element in the sequence x(n)=n^2+1. Call the function for n=4 and write out the result .\n",
    "\n"
   ]
  },
  {
   "cell_type": "code",
   "execution_count": null,
   "metadata": {
    "id": "iSoTxdmrhrXj"
   },
   "outputs": [],
   "source": [
    "#write your code here . "
   ]
  },
  {
   "cell_type": "code",
   "execution_count": null,
   "metadata": {
    "id": "Dj-WfRFoGT0v"
   },
   "outputs": [],
   "source": [
    "def  compute(n):\n",
    "  x = n**2+1\n",
    "\n",
    "  return x \n",
    "\n",
    "compute(4)"
   ]
  },
  {
   "cell_type": "code",
   "execution_count": null,
   "metadata": {
    "id": "ziTxT2J6hrdq"
   },
   "outputs": [],
   "source": []
  },
  {
   "cell_type": "markdown",
   "metadata": {
    "id": "Pdq_OdHjhryZ"
   },
   "source": [
    "Question - 5 : Write a python program to create a  function to calculate power of a number raised to other. E.g.- a^b."
   ]
  },
  {
   "cell_type": "code",
   "execution_count": null,
   "metadata": {
    "id": "ABqniZrYhtpk"
   },
   "outputs": [],
   "source": [
    "#write your code here . "
   ]
  },
  {
   "cell_type": "code",
   "execution_count": null,
   "metadata": {
    "id": "S9flV2ZkGVAp"
   },
   "outputs": [],
   "source": [
    "def power(a, b):\n",
    "  return a**b\n",
    "\n",
    "power(2,3)"
   ]
  },
  {
   "cell_type": "code",
   "execution_count": null,
   "metadata": {
    "id": "0qUgEQ4_huI9"
   },
   "outputs": [],
   "source": []
  },
  {
   "cell_type": "markdown",
   "metadata": {
    "id": "SW_SckGDhuYu"
   },
   "source": [
    "Question - 6 : Write a python program to create a function to print multiplication table of 12 using recursion.\n"
   ]
  },
  {
   "cell_type": "code",
   "execution_count": null,
   "metadata": {
    "id": "DSnrcR9DhwIb"
   },
   "outputs": [],
   "source": [
    "#write your code here . "
   ]
  },
  {
   "cell_type": "code",
   "execution_count": 2,
   "metadata": {
    "id": "7zCfR8ssGWGR"
   },
   "outputs": [
    {
     "name": "stdout",
     "output_type": "stream",
     "text": [
      "12\n",
      "12 2\n"
     ]
    }
   ],
   "source": [
    "def table(n,i):\n",
    "  print(n*i)\n",
    "  i+=1\n",
    "  if i<=10:\n",
    "    print(n,i)\n",
    "\n",
    "table(12,1)"
   ]
  },
  {
   "cell_type": "code",
   "execution_count": null,
   "metadata": {
    "id": "_kinoxAOhwOr"
   },
   "outputs": [],
   "source": []
  },
  {
   "cell_type": "markdown",
   "metadata": {
    "id": "2d5o18sxhwmu"
   },
   "source": [
    "Question - 7 : Write a python program to create a  function to tell user if he/she is able to vote or not.\n",
    "( Consider minimum age of voting to be 18. ) "
   ]
  },
  {
   "cell_type": "code",
   "execution_count": null,
   "metadata": {
    "id": "mVpRmYl8hyiB"
   },
   "outputs": [],
   "source": [
    "#write your code here . "
   ]
  },
  {
   "cell_type": "code",
   "execution_count": null,
   "metadata": {
    "id": "5i5rezFEGW1r"
   },
   "outputs": [],
   "source": [
    "def vote_eligible(age):\n",
    "  if age>=18:\n",
    "    print(\"yes , you can vote\")\n",
    "  else:\n",
    "    print(\"no , you can not vote\")\n",
    "\n",
    "\n",
    "vote_eligible(20)"
   ]
  },
  {
   "cell_type": "code",
   "execution_count": null,
   "metadata": {
    "id": "rg5bMKSchyog"
   },
   "outputs": [],
   "source": []
  },
  {
   "cell_type": "markdown",
   "metadata": {
    "id": "DW9lMZuDhzMn"
   },
   "source": [
    "Question - 8 : Write a python program to create a  function “perfect()” that determines if parameter number is a perfect number. Use this function in a program that determines and prints all the perfect numbers between 1 and 100.\n",
    "\n",
    "NOTE : [An integer number is said to be “perfect number” if its factors, including 1(but not the number itself), sum to the number. E.g., 6 is a perfect number because 6=1+2+3].\n"
   ]
  },
  {
   "cell_type": "code",
   "execution_count": null,
   "metadata": {
    "id": "45tgk2Yth1LX"
   },
   "outputs": [],
   "source": [
    "#write your code here . "
   ]
  },
  {
   "cell_type": "code",
   "execution_count": null,
   "metadata": {
    "id": "dLI2rrsNGYBF"
   },
   "outputs": [],
   "source": [
    "def perfect(n):\n",
    "  sum = 0\n",
    "  for i in range(1,n):\n",
    "    if n%i == 0:\n",
    "      sum = sum + i\n",
    "  if sum == n:\n",
    "    return True\n",
    "  else:\n",
    "    return False\n",
    "for i in range(1,100):\n",
    "  if perfect(i):\n",
    "    print(i)"
   ]
  },
  {
   "cell_type": "code",
   "execution_count": null,
   "metadata": {
    "id": "yj-mhvE8h1R9"
   },
   "outputs": [],
   "source": []
  },
  {
   "cell_type": "markdown",
   "metadata": {
    "id": "IToyqVOCh1rN"
   },
   "source": [
    "Question - 9 : Write a python program to create a  function to access a function inside a function."
   ]
  },
  {
   "cell_type": "code",
   "execution_count": null,
   "metadata": {
    "id": "oI26gKFhh3uL"
   },
   "outputs": [],
   "source": [
    "#write your code here . "
   ]
  },
  {
   "cell_type": "code",
   "execution_count": null,
   "metadata": {
    "id": "4xLr6BvvGY0w"
   },
   "outputs": [],
   "source": [
    "def Myfanc(a):\n",
    "        def add(b):\n",
    "                nonlocal a\n",
    "                a += 1\n",
    "                return a+b\n",
    "        return add\n",
    "ob = Myfanc(4)\n",
    "print(ob(4))"
   ]
  },
  {
   "cell_type": "code",
   "execution_count": null,
   "metadata": {
    "id": "Ta5Sna3Eh4Ei"
   },
   "outputs": [],
   "source": []
  },
  {
   "cell_type": "markdown",
   "metadata": {
    "id": "rXjg9NAYh4aS"
   },
   "source": [
    "Question - 10 : Write a python program to create a lambda function"
   ]
  },
  {
   "cell_type": "code",
   "execution_count": null,
   "metadata": {
    "id": "2evGGYQsh6Hx"
   },
   "outputs": [],
   "source": [
    "#write your code here . "
   ]
  },
  {
   "cell_type": "code",
   "execution_count": null,
   "metadata": {
    "id": "EtHHfw07GjGT"
   },
   "outputs": [],
   "source": [
    "y = lambda x,y:x*y\n",
    "\n",
    "y(3,2)"
   ]
  },
  {
   "cell_type": "code",
   "execution_count": null,
   "metadata": {
    "id": "EqTxeuOZh6Pf"
   },
   "outputs": [],
   "source": []
  },
  {
   "cell_type": "markdown",
   "metadata": {
    "id": "NU4ADHv7TjlN"
   },
   "source": [
    "Visit [Jobaajlearnings.com ](http://learnings.jobaaj.com/)for more Courses<br><br>\n",
    "Connect with Us on <br>\n",
    "\n",
    "\n",
    "*  [Instagram](https://www.instagram.com/jobaaj.com_/)<br> \n",
    "*  [LinkedIn](https://www.linkedin.com/showcase/jobaaj-learnings/)<br>\n",
    "*  [Medium](https://jobaaj-com.medium.com/)<br>\n",
    "\n",
    "Connect with the Instructor on <br>\n",
    "\n",
    "\n",
    "*  [Instagram](https://www.instagram.com/shivavashishtha_/)<br> \n",
    "*  [LinkedIn](https://www.linkedin.com/in/shivavashishtha/)<br>\n",
    "*  [Medium](https://medium.com/@shiva.vashishtha)<br>\n",
    "*  [GitHub](https://github.com/shivavashishtha)<br>\n",
    "\n",
    "\n",
    "\n"
   ]
  }
 ],
 "metadata": {
  "colab": {
   "provenance": []
  },
  "kernelspec": {
   "display_name": "Python (tf_env)",
   "language": "python",
   "name": "tf_env"
  },
  "language_info": {
   "codemirror_mode": {
    "name": "ipython",
    "version": 3
   },
   "file_extension": ".py",
   "mimetype": "text/x-python",
   "name": "python",
   "nbconvert_exporter": "python",
   "pygments_lexer": "ipython3",
   "version": "3.9.19"
  }
 },
 "nbformat": 4,
 "nbformat_minor": 0
}
