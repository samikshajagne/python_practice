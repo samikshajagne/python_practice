{
 "cells": [
  {
   "cell_type": "code",
   "execution_count": 1,
   "id": "c0fc78f2",
   "metadata": {},
   "outputs": [
    {
     "name": "stdout",
     "output_type": "stream",
     "text": [
      "ahskimaS\n"
     ]
    }
   ],
   "source": [
    "#reverse a string using slicing\n",
    "def rev(s):\n",
    "    return s[::-1]\n",
    "\n",
    "s ='Samiksha'\n",
    "print(rev(s))"
   ]
  },
  {
   "cell_type": "code",
   "execution_count": 5,
   "id": "d93ea9ae",
   "metadata": {},
   "outputs": [
    {
     "name": "stdout",
     "output_type": "stream",
     "text": [
      "{'a', 'm', 's'}\n"
     ]
    }
   ],
   "source": [
    "#removing duplicates\n",
    "def remove_duplicates(s):\n",
    "    return str(set(s))\n",
    "\n",
    "s='aaasssmm'\n",
    "print(remove_duplicates(s))"
   ]
  },
  {
   "cell_type": "code",
   "execution_count": 8,
   "id": "e505d500",
   "metadata": {},
   "outputs": [
    {
     "name": "stdout",
     "output_type": "stream",
     "text": [
      "{'s': 3, 'a': 3, 'm': 3}\n"
     ]
    }
   ],
   "source": [
    "# count word frequency using dictionary\n",
    "def coun_word_fre(s):\n",
    "    frequency = {}\n",
    "    for i in s:\n",
    "        if i in frequency:\n",
    "            frequency[i] +=1\n",
    "        else:\n",
    "            frequency[i]=1\n",
    "    return frequency\n",
    "\n",
    "s ='sssaaammm'\n",
    "print(coun_word_fre(s))"
   ]
  },
  {
   "cell_type": "code",
   "execution_count": 10,
   "id": "b2f7e003",
   "metadata": {},
   "outputs": [
    {
     "name": "stdout",
     "output_type": "stream",
     "text": [
      "{2, 4}\n"
     ]
    }
   ],
   "source": [
    "# find common elements in two sets\n",
    "def sets():\n",
    "    a = set([1,2,4])\n",
    "    b = set([4,3,2])\n",
    "    common = a.intersection(b)\n",
    "    print(common)\n",
    "sets()\n",
    "\n"
   ]
  }
 ],
 "metadata": {
  "kernelspec": {
   "display_name": "Python (bc)",
   "language": "python",
   "name": "bc"
  },
  "language_info": {
   "codemirror_mode": {
    "name": "ipython",
    "version": 3
   },
   "file_extension": ".py",
   "mimetype": "text/x-python",
   "name": "python",
   "nbconvert_exporter": "python",
   "pygments_lexer": "ipython3",
   "version": "3.10.18"
  }
 },
 "nbformat": 4,
 "nbformat_minor": 5
}
