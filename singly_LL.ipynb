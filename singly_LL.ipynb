{
 "cells": [
  {
   "cell_type": "code",
   "execution_count": 24,
   "id": "4e1d5d89",
   "metadata": {},
   "outputs": [
    {
     "name": "stdout",
     "output_type": "stream",
     "text": [
      "10 --> 20 --> 30 --> None\n",
      "9 --> 10 --> 20 --> 30 --> None\n",
      "9 --> 10 --> 20 --> 30 --> 40 --> None\n",
      "9 --> 10 --> 15 --> 20 --> 30 --> 40 --> None\n"
     ]
    }
   ],
   "source": [
    "class Node:\n",
    "    def __init__(self,data):\n",
    "        self.data = data\n",
    "        self.next = None\n",
    "\n",
    "class singly_LL:\n",
    "    def __init__(self):\n",
    "        self.head = None \n",
    "    \n",
    "    def display(self):\n",
    "        if self.head is None:\n",
    "            print(\"EMPTY LIST!!!\")\n",
    "        else:\n",
    "            temp = self.head\n",
    "            while temp:\n",
    "                print(temp.data,\"-->\",end=\" \")\n",
    "                temp = temp.next\n",
    "        print(\"None\")\n",
    "    \n",
    "    def insert_at_beginning(self,data):\n",
    "        new_nb = Node(data)\n",
    "        if self.head is None:\n",
    "            self.data=new_nb\n",
    "        else:\n",
    "            new_nb.next = self.head\n",
    "            self.head = new_nb\n",
    "\n",
    "    def insert_at_end(self,data):\n",
    "        new_ne = Node(data)\n",
    "        temp = self.head\n",
    "        if self.head.next is None:\n",
    "            self.data = new_ne\n",
    "        else:\n",
    "            while temp.next:\n",
    "                temp = temp.next\n",
    "            temp.next = new_ne\n",
    "\n",
    "    def insert_at_position(self,data,index):\n",
    "        new_np = Node(data)\n",
    "        temp = self.head\n",
    "        for i in range(index-1):\n",
    "            temp=temp.next\n",
    "            new_np.next = temp.next\n",
    "            temp.next = new_np\n",
    "\n",
    "\n",
    "L=singly_LL()\n",
    "n=Node(10)\n",
    "L.head=n\n",
    "n1 = Node(20)\n",
    "n.next = n1\n",
    "n2 = Node(30)\n",
    "n1.next=n2\n",
    "L.display()\n",
    "L.insert_at_beginning(9)\n",
    "L.display()\n",
    "L.insert_at_end(40)\n",
    "L.display()\n",
    "L.insert_at_position(15,2)\n",
    "L.display()"
   ]
  },
  {
   "cell_type": "code",
   "execution_count": null,
   "id": "b0e47960",
   "metadata": {},
   "outputs": [],
   "source": []
  }
 ],
 "metadata": {
  "kernelspec": {
   "display_name": "Python (bc)",
   "language": "python",
   "name": "bc"
  },
  "language_info": {
   "codemirror_mode": {
    "name": "ipython",
    "version": 3
   },
   "file_extension": ".py",
   "mimetype": "text/x-python",
   "name": "python",
   "nbconvert_exporter": "python",
   "pygments_lexer": "ipython3",
   "version": "3.10.18"
  }
 },
 "nbformat": 4,
 "nbformat_minor": 5
}
