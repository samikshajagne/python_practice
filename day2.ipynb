{
 "cells": [
  {
   "cell_type": "code",
   "execution_count": null,
   "id": "035f40f1",
   "metadata": {},
   "outputs": [
    {
     "name": "stdout",
     "output_type": "stream",
     "text": [
      "34\n"
     ]
    }
   ],
   "source": [
    "#fibonnaci using loop\n",
    "\n",
    "def fib(num):\n",
    "    a =0\n",
    "    b=1\n",
    "    # print(a)\n",
    "    # if num >1:\n",
    "    #     print (b)\n",
    "    \n",
    "    for i in range(num-2):\n",
    "        next_num = a+b\n",
    "       \n",
    "        a =b\n",
    "        b=next_num\n",
    "    print(next_num)\n",
    "fib(10)"
   ]
  },
  {
   "cell_type": "code",
   "execution_count": 10,
   "id": "6954dbc0",
   "metadata": {},
   "outputs": [
    {
     "data": {
      "text/plain": [
       "6"
      ]
     },
     "execution_count": 10,
     "metadata": {},
     "output_type": "execute_result"
    }
   ],
   "source": [
    "def fact(num):\n",
    "    if num == 1:\n",
    "        return num\n",
    "    for i in range(1,num):\n",
    "        fact = i*num\n",
    "        i+=1\n",
    "    return fact\n",
    "fact(3)"
   ]
  },
  {
   "cell_type": "code",
   "execution_count": 15,
   "id": "65746309",
   "metadata": {},
   "outputs": [
    {
     "name": "stdout",
     "output_type": "stream",
     "text": [
      "3\n"
     ]
    }
   ],
   "source": [
    "#count vowels\n",
    "def c_vowels(s):\n",
    "    n = len(s)\n",
    "    count = 0\n",
    "    for i in range(0,n):\n",
    "        if s[i] == 'a' or s[i] == 'e' or s[i] == 'i' or s[i] == 'o' or s[i] == 'u':\n",
    "            count += 1\n",
    "    return count\n",
    "\n",
    "s ='umbrella'\n",
    "print(c_vowels(s))"
   ]
  },
  {
   "cell_type": "code",
   "execution_count": 20,
   "id": "b73c216d",
   "metadata": {},
   "outputs": [
    {
     "name": "stdout",
     "output_type": "stream",
     "text": [
      "\n",
      "*\n",
      "**\n",
      "***\n",
      "****\n",
      "*****\n",
      "******\n"
     ]
    }
   ],
   "source": [
    "# print pattern \n",
    "def pattern(num):\n",
    "    for i in range(num+1):\n",
    "        print('*' *i)\n",
    "        i+=1\n",
    "pattern(6)"
   ]
  },
  {
   "cell_type": "code",
   "execution_count": null,
   "id": "f203a766",
   "metadata": {},
   "outputs": [],
   "source": []
  }
 ],
 "metadata": {
  "kernelspec": {
   "display_name": "Python (bc)",
   "language": "python",
   "name": "bc"
  },
  "language_info": {
   "codemirror_mode": {
    "name": "ipython",
    "version": 3
   },
   "file_extension": ".py",
   "mimetype": "text/x-python",
   "name": "python",
   "nbconvert_exporter": "python",
   "pygments_lexer": "ipython3",
   "version": "3.10.18"
  }
 },
 "nbformat": 4,
 "nbformat_minor": 5
}
