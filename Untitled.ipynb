{
 "cells": [
  {
   "cell_type": "markdown",
   "id": "1c462622-3dad-4144-b499-90bf97ef80cd",
   "metadata": {},
   "source": [
    "# Extracting digits"
   ]
  },
  {
   "cell_type": "code",
   "execution_count": 1,
   "id": "b9f34b2f-0912-46d6-a42c-c4b207e46b3d",
   "metadata": {},
   "outputs": [
    {
     "name": "stdout",
     "output_type": "stream",
     "text": [
      "3\n",
      "7\n",
      "8\n",
      "2\n"
     ]
    }
   ],
   "source": [
    "n = 2873\n",
    "while n >0:\n",
    "    last_digit = n%10\n",
    "    print(last_digit)\n",
    "    n=n//10"
   ]
  },
  {
   "cell_type": "markdown",
   "id": "1d302d90-ee4b-4751-b7f4-c298e5f7693c",
   "metadata": {},
   "source": [
    "# count of digits"
   ]
  },
  {
   "cell_type": "code",
   "execution_count": 2,
   "id": "9e5a72f4-6988-4595-8048-d21d85c86266",
   "metadata": {},
   "outputs": [
    {
     "name": "stdout",
     "output_type": "stream",
     "text": [
      "4\n"
     ]
    }
   ],
   "source": [
    "n = 2552\n",
    "count = 0\n",
    "while n>0:\n",
    "    count+=1\n",
    "    n = n//10\n",
    "print(count)"
   ]
  },
  {
   "cell_type": "code",
   "execution_count": null,
   "id": "1d651b8b-4dd0-4009-b2e1-ab6edb555b77",
   "metadata": {},
   "outputs": [],
   "source": [
    " "
   ]
  }
 ],
 "metadata": {
  "kernelspec": {
   "display_name": "Python (tf_env)",
   "language": "python",
   "name": "tf_env"
  },
  "language_info": {
   "codemirror_mode": {
    "name": "ipython",
    "version": 3
   },
   "file_extension": ".py",
   "mimetype": "text/x-python",
   "name": "python",
   "nbconvert_exporter": "python",
   "pygments_lexer": "ipython3",
   "version": "3.9.19"
  }
 },
 "nbformat": 4,
 "nbformat_minor": 5
}
