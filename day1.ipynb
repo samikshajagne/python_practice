{
 "cells": [
  {
   "cell_type": "code",
   "execution_count": 2,
   "id": "6adf92dd",
   "metadata": {},
   "outputs": [
    {
     "name": "stdout",
     "output_type": "stream",
     "text": [
      "True\n"
     ]
    }
   ],
   "source": [
    "# even or odd\n",
    "def eve_odd(num):\n",
    "    if num%2==0:\n",
    "        return True\n",
    "    else:\n",
    "        return False\n",
    "print(eve_odd(2))"
   ]
  },
  {
   "cell_type": "code",
   "execution_count": 6,
   "id": "c7ed760b",
   "metadata": {},
   "outputs": [
    {
     "name": "stdout",
     "output_type": "stream",
     "text": [
      "True\n"
     ]
    }
   ],
   "source": [
    "# prime\n",
    "def prime(num):\n",
    "    if num <2:\n",
    "        return False\n",
    "    for i in range(2,num):\n",
    "        if num%i==0 :\n",
    "            return False\n",
    "    return True\n",
    "print(prime(5))"
   ]
  },
  {
   "cell_type": "code",
   "execution_count": 5,
   "id": "0a2107ab",
   "metadata": {},
   "outputs": [
    {
     "name": "stdout",
     "output_type": "stream",
     "text": [
      "['a', 'h', 's', 'k', 'i', 'm', 'a', 'S']\n"
     ]
    }
   ],
   "source": [
    "# reverse a string\n",
    "def rev(s,left,right):\n",
    "    if left>right:\n",
    "        return\n",
    "    s[left],s[right]=s[right],s[left]\n",
    "    rev(s,left+1,right-1)\n",
    "    return s\n",
    "s=list('Samiksha')  \n",
    "print(rev(s,0,len(s)-1))"
   ]
  },
  {
   "cell_type": "code",
   "execution_count": 7,
   "id": "da836c52",
   "metadata": {},
   "outputs": [
    {
     "name": "stdout",
     "output_type": "stream",
     "text": [
      "120\n"
     ]
    }
   ],
   "source": [
    "# factorial\n",
    "def fact(num):\n",
    "    if num ==0 :\n",
    "        return 1\n",
    "    return num*fact(num-1)\n",
    "print(fact(5))"
   ]
  },
  {
   "cell_type": "code",
   "execution_count": 10,
   "id": "26f40e45",
   "metadata": {},
   "outputs": [
    {
     "name": "stdout",
     "output_type": "stream",
     "text": [
      "True\n"
     ]
    }
   ],
   "source": [
    "# palindrome check\n",
    "def pal(s,l,r):\n",
    "    if l>=r:\n",
    "        return True\n",
    "    if s[l]!=s[r]:\n",
    "        return False\n",
    "    return pal(s,l+1,r-1)\n",
    "\n",
    "s = 'madam'\n",
    "print(pal(s,0,len(s)-1))\n",
    "    "
   ]
  }
 ],
 "metadata": {
  "kernelspec": {
   "display_name": "Python (bc)",
   "language": "python",
   "name": "bc"
  },
  "language_info": {
   "codemirror_mode": {
    "name": "ipython",
    "version": 3
   },
   "file_extension": ".py",
   "mimetype": "text/x-python",
   "name": "python",
   "nbconvert_exporter": "python",
   "pygments_lexer": "ipython3",
   "version": "3.10.18"
  }
 },
 "nbformat": 4,
 "nbformat_minor": 5
}
